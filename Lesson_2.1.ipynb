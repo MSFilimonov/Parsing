{
 "cells": [
  {
   "cell_type": "code",
   "execution_count": 137,
   "id": "0bf70774",
   "metadata": {},
   "outputs": [],
   "source": [
    "from pprint import pprint\n",
    "from lxml import html\n",
    "import requests"
   ]
  },
  {
   "cell_type": "code",
   "execution_count": 138,
   "id": "6e77ce18",
   "metadata": {},
   "outputs": [],
   "source": [
    "url = 'https://lenta.ru/'\n",
    "\n",
    "headers = {\n",
    "    'User-Agent': 'Mozilla/5.0 (Windows NT 10.0; Win64; x64) AppleWebKit/537.36 (KHTML, like Gecko) Chrome/110.0.0.0 Safari/537.36',\n",
    "}\n",
    "\n",
    "params = {\n",
    "    'news_name': '',\n",
    "    'link': '',\n",
    "}"
   ]
  },
  {
   "cell_type": "code",
   "execution_count": 139,
   "id": "7933c391",
   "metadata": {},
   "outputs": [
    {
     "data": {
      "text/plain": [
       "(200, 'https://lenta.ru/?news_name=&link=')"
      ]
     },
     "execution_count": 139,
     "metadata": {},
     "output_type": "execute_result"
    }
   ],
   "source": [
    "response = requests.get(url=url, headers=headers, params=params)\n",
    "response.status_code, response.url"
   ]
  },
  {
   "cell_type": "code",
   "execution_count": 140,
   "id": "13142626",
   "metadata": {},
   "outputs": [],
   "source": [
    "dom = html.fromstring(response.text)"
   ]
  },
  {
   "cell_type": "code",
   "execution_count": 153,
   "id": "c9c3cd3d",
   "metadata": {},
   "outputs": [],
   "source": [
    "news = dom.xpath(\"//div/a[@class='card-mini _topnews']\")"
   ]
  },
  {
   "cell_type": "code",
   "execution_count": 154,
   "id": "8764f09d",
   "metadata": {},
   "outputs": [
    {
     "data": {
      "text/plain": [
       "12"
      ]
     },
     "execution_count": 154,
     "metadata": {},
     "output_type": "execute_result"
    }
   ],
   "source": [
    "len(news)"
   ]
  },
  {
   "cell_type": "code",
   "execution_count": 155,
   "id": "c94a4815",
   "metadata": {},
   "outputs": [],
   "source": [
    "news_list = []\n",
    "\n",
    "for new in news:\n",
    "  new_name = new.xpath(\"./div[@class='card-mini__text']/span[@class='card-mini__title']/text()\")\n",
    "  if len(new_name) == 1:\n",
    "    new_name = new_name[0]\n",
    "  else:\n",
    "    new_name = None\n",
    "  \n",
    "  new_link = new.xpath(\"./@href\")\n",
    "  if len(new_link) == 1:\n",
    "    new_link = 'https://lenta.ru' + new_link[0]\n",
    "  else:\n",
    "    new_link = None\n",
    "    \n",
    "  new_time = new.xpath(\"./div/div/time[@class='card-mini__date']/text()\")\n",
    "  if len(new_time) == 1:\n",
    "    new_time = new_time[0]\n",
    "  else:\n",
    "    new_time = None  "
   ]
  },
  {
   "cell_type": "code",
   "execution_count": 156,
   "id": "ecf67d4f",
   "metadata": {},
   "outputs": [],
   "source": [
    "new_dict = {\n",
    "      'new': new_name,\n",
    "      'link': new_link,\n",
    "      'time': new_time,\n",
    "  }\n",
    "\n",
    "news_list.append(new_dict)"
   ]
  },
  {
   "cell_type": "code",
   "execution_count": 157,
   "id": "006789b7",
   "metadata": {},
   "outputs": [
    {
     "data": {
      "text/plain": [
       "[{'new': 'Боррель заявил о необходимости блицкрига в промышленности ЕС',\n",
       "  'link': 'https://lenta.ru/news/2023/02/19/blitskrieg/',\n",
       "  'time': '12:10'}]"
      ]
     },
     "execution_count": 157,
     "metadata": {},
     "output_type": "execute_result"
    }
   ],
   "source": [
    "news_list"
   ]
  },
  {
   "cell_type": "markdown",
   "id": "999f95f8",
   "metadata": {},
   "source": [
    "Не могу понять почему вытаскивает только одну новость"
   ]
  }
 ],
 "metadata": {
  "kernelspec": {
   "display_name": "Python 3 (ipykernel)",
   "language": "python",
   "name": "python3"
  },
  "language_info": {
   "codemirror_mode": {
    "name": "ipython",
    "version": 3
   },
   "file_extension": ".py",
   "mimetype": "text/x-python",
   "name": "python",
   "nbconvert_exporter": "python",
   "pygments_lexer": "ipython3",
   "version": "3.10.8"
  }
 },
 "nbformat": 4,
 "nbformat_minor": 5
}
