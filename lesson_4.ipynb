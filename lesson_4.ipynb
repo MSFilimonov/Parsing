{
 "cells": [
  {
   "cell_type": "code",
   "execution_count": 24,
   "id": "20dbdf9a",
   "metadata": {},
   "outputs": [],
   "source": [
    "from bs4 import BeautifulSoup as bs\n",
    "import requests\n",
    "import re\n",
    "import pandas as pd\n",
    "from pymongo import MongoClient\n",
    "from pprint import pprint\n",
    "import time\n"
   ]
  },
  {
   "cell_type": "code",
   "execution_count": 25,
   "id": "9136965a",
   "metadata": {},
   "outputs": [],
   "source": [
    "client = MongoClient('localhost',27017)\n",
    "db = client['vacancies_db']\n",
    "hh_vac = db.hh_vac\n",
    "sj_vac = db.sj_vac"
   ]
  },
  {
   "cell_type": "code",
   "execution_count": 26,
   "id": "5561789f",
   "metadata": {},
   "outputs": [],
   "source": [
    "def hh_search(text, page, only_new = 'yes', hh_vac = hh_vac):\n",
    "\n",
    "    user_agent = {'User-agent': 'Mozilla/5.0 (Windows NT 10.0; Win64; x64) AppleWebKit/537.36 (KHTML, like Gecko) Chrome/110.0.0.0 Safari/537.36'}\n",
    "    link_hh = ('https://hh.ru/search/vacancy?area=2&st=searchVacancy@enable_snippets=true&')\n",
    "    \n",
    "    vacs = []\n",
    "\n",
    "    for p in range(page):\n",
    "        html = requests.get(f'{link_hh}&text={text}&page={p}',  headers = user_agent).text\n",
    "        parsed_html = bs(html,'lxml')\n",
    "        vac_list = parsed_html.findAll('div', {'class':'vacancy-serp-item__row vacancy-serp-item__row_header'})\n",
    "        df = pd.DataFrame(columns=['name', 'salary_min', 'salary_max', 'url', 'site'])\n",
    "\n",
    "        for vac in vac_list:\n",
    "            \n",
    "            vac_data = {}\n",
    "\n",
    "            main_info = vac.findChild()\n",
    "            link = vac.find('a')\n",
    "            if not link:\n",
    "                url = 'nan'\n",
    "                vac_data['name'] = ''\n",
    "            else:\n",
    "                vac_data['name'] = link.getText()\n",
    "                url = link[\"href\"].split('?')[0]\n",
    "                vac_num = url.split('/')[3]\n",
    "\n",
    "            compensation = vac.findParent().find('div', {'data-qa': 'vacancy-serp__vacancy-compensation'})\n",
    "            salary = 0\n",
    "            salary_min = float('nan')\n",
    "            salary_max = float('nan')\n",
    "            if not compensation:\n",
    "                pass\n",
    "            else:\n",
    "                salary = compensation.getText()\n",
    "                salary = re.sub(r\"\\s+\", \"\", salary)\n",
    "                if salary.find('от') >= 0 :\n",
    "                    salary_min = int(re.findall(r'\\d+',  salary)[0])\n",
    "\n",
    "                elif salary.find('до') >= 0 :\n",
    "                    salary_max = int(re.findall(r'\\d+', salary)[0])\n",
    "\n",
    "                elif salary.find('-') >= 0 :\n",
    "                    salary = re.findall(r'\\d+', salary)\n",
    "                    salary_min = salary[0]\n",
    "                    salary_max = salary[1]\n",
    "\n",
    "              \n",
    "                vac_data['salary_min'] = salary_min\n",
    "                vac_data['salary_max'] = salary_max\n",
    "                vac_data['url'] = url\n",
    "                vac_data['vac_num'] = vac_num\n",
    "                vac_data['site'] = 'HeadHunter'\n",
    "\n",
    "                vacs.append(vac_data)\n",
    "                df.append(vac_data, ignore_index = True)\n",
    "                if only_new == 'yes':\n",
    "                  if find_in_db('hh', vac_num) == 0:\n",
    "                    hh_vac.insert_one(vac_data)\n",
    "                else:\n",
    "                    hh_vac.insert_one(vac_data)\n",
    "            i += 1\n",
    "            time.sleep(1)\n",
    "    return(vacs)"
   ]
  },
  {
   "cell_type": "code",
   "execution_count": 27,
   "id": "061ccbc1",
   "metadata": {},
   "outputs": [],
   "source": [
    "def find_in_db(site, vac_num):\n",
    "  exists = 0\n",
    "  if site == 'hh':\n",
    "    exists = hh_vac.count_documents({'vac_num': vac_num})\n",
    "  return exists\n"
   ]
  },
  {
   "cell_type": "code",
   "execution_count": 28,
   "id": "06a426f6",
   "metadata": {},
   "outputs": [],
   "source": [
    "def find_salary():\n",
    "  salary = input('Введите минимальную зарплату: ')\n",
    "  expensive_vacs = hh_vac.find({'salary_min':{'$gte':salary}}).sort('salary_min')\n",
    "  print('Вакансии с зарплатой выше чем ', salary)\n",
    "  for item in expensive_vacs:\n",
    "    pprint(item)"
   ]
  },
  {
   "cell_type": "code",
   "execution_count": 29,
   "id": "03a0b705",
   "metadata": {},
   "outputs": [
    {
     "name": "stdout",
     "output_type": "stream",
     "text": [
      "Введите минимальную зарплату: 50000\n",
      "Вакансии с зарплатой выше чем  50000\n"
     ]
    }
   ],
   "source": [
    "find_salary()"
   ]
  },
  {
   "cell_type": "code",
   "execution_count": 30,
   "id": "f16e4822",
   "metadata": {},
   "outputs": [],
   "source": [
    "def search_vac(only_new ='yes'):\n",
    "\n",
    "  text = input('Введите вакансию: ')\n",
    "  text = text.replace(' ', '+')\n",
    "  page = int(input('Введите кол-во страниц: '))\n",
    "  hh_search(text, page, only_new)\n",
    "  df1 = pd.DataFrame.from_dict(hh_search(text, page))\n",
    "  df = pd.concat([df1], ignore_index=True)\n",
    "  return df"
   ]
  },
  {
   "cell_type": "code",
   "execution_count": 33,
   "id": "4bb0b9cf",
   "metadata": {},
   "outputs": [
    {
     "name": "stdout",
     "output_type": "stream",
     "text": [
      "Введите вакансию: Python\n",
      "Введите кол-во страниц: 3\n",
      "Empty DataFrame\n",
      "Columns: []\n",
      "Index: []\n"
     ]
    }
   ],
   "source": [
    "print(search_vac('yes'))\n"
   ]
  },
  {
   "cell_type": "code",
   "execution_count": null,
   "id": "033c2f6e",
   "metadata": {},
   "outputs": [],
   "source": []
  },
  {
   "cell_type": "code",
   "execution_count": null,
   "id": "0c602753",
   "metadata": {},
   "outputs": [],
   "source": []
  },
  {
   "cell_type": "code",
   "execution_count": null,
   "id": "7906e6d6",
   "metadata": {},
   "outputs": [],
   "source": []
  },
  {
   "cell_type": "code",
   "execution_count": null,
   "id": "a4475b58",
   "metadata": {},
   "outputs": [],
   "source": []
  },
  {
   "cell_type": "code",
   "execution_count": null,
   "id": "735d71af",
   "metadata": {},
   "outputs": [],
   "source": []
  },
  {
   "cell_type": "code",
   "execution_count": null,
   "id": "9660b90b",
   "metadata": {},
   "outputs": [],
   "source": []
  },
  {
   "cell_type": "code",
   "execution_count": null,
   "id": "27b314e9",
   "metadata": {},
   "outputs": [],
   "source": []
  },
  {
   "cell_type": "code",
   "execution_count": null,
   "id": "e4dbe455",
   "metadata": {},
   "outputs": [],
   "source": []
  },
  {
   "cell_type": "code",
   "execution_count": null,
   "id": "42902101",
   "metadata": {},
   "outputs": [],
   "source": []
  },
  {
   "cell_type": "code",
   "execution_count": null,
   "id": "5515f340",
   "metadata": {},
   "outputs": [],
   "source": []
  },
  {
   "cell_type": "code",
   "execution_count": null,
   "id": "5f0f5a81",
   "metadata": {},
   "outputs": [],
   "source": []
  }
 ],
 "metadata": {
  "kernelspec": {
   "display_name": "Python 3 (ipykernel)",
   "language": "python",
   "name": "python3"
  },
  "language_info": {
   "codemirror_mode": {
    "name": "ipython",
    "version": 3
   },
   "file_extension": ".py",
   "mimetype": "text/x-python",
   "name": "python",
   "nbconvert_exporter": "python",
   "pygments_lexer": "ipython3",
   "version": "3.10.8"
  }
 },
 "nbformat": 4,
 "nbformat_minor": 5
}
